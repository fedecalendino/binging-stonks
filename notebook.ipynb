{
 "cells": [
  {
   "cell_type": "code",
   "execution_count": 2,
   "metadata": {
    "collapsed": true,
    "pycharm": {
     "name": "#%%\n"
    }
   },
   "outputs": [],
   "source": [
    "from imdb import IMDb\n",
    "\n",
    "imdb = IMDb()"
   ]
  },
  {
   "cell_type": "code",
   "execution_count": 6,
   "outputs": [
    {
     "name": "stdout",
     "output_type": "stream",
     "text": [
      "Avatar: The Last Airbender (2005)\n",
      "https://imdb.com/title/tt0417299\n"
     ]
    }
   ],
   "source": [
    "# Complete with the title of the series you want to search\n",
    "search = \"Avatar: The Last Airbender\"\n",
    "\n",
    "shows = list(\n",
    "    filter(\n",
    "        lambda show: show[\"kind\"] == \"tv series\",\n",
    "        imdb.search_movie(title=search),\n",
    "    )\n",
    ")\n",
    "\n",
    "if not shows:\n",
    "    print(\"Not found\")\n",
    "    exit()\n",
    "\n",
    "# Optionally, you can override the search with the imdbID of the show\n",
    "code = shows[0].movieID\n",
    "show = imdb.get_movie(code)\n",
    "\n",
    "# Make sure is the correct one (check the link!)\n",
    "print(f\"{show['title']} ({show['year']})\")\n",
    "print(f\"https://imdb.com/title/tt{code}\")"
   ],
   "metadata": {
    "collapsed": false,
    "pycharm": {
     "name": "#%%\n"
    }
   }
  },
  {
   "cell_type": "code",
   "execution_count": null,
   "outputs": [],
   "source": [
    "imdb.update(show, 'episodes')\n",
    "\n",
    "number_of_seasons = show[\"number of seasons\"]\n",
    "number_of_episodes = show[\"number of episodes\"]\n",
    "\n",
    "print(f\"Seasons: {number_of_seasons}\")\n",
    "print(f\"Episodes: {number_of_episodes}\")"
   ],
   "metadata": {
    "collapsed": false,
    "pycharm": {
     "name": "#%%\n",
     "is_executing": true
    }
   }
  },
  {
   "cell_type": "code",
   "execution_count": null,
   "outputs": [],
   "source": [
    "import matplotlib.pyplot as plt\n",
    "import numpy as np\n",
    "from scipy import interpolate\n",
    "\n",
    "# CREATE FIGURE\n",
    "fig = plt.figure(\n",
    "    figsize=(10 + 5 * max(number_of_episodes / 25, 1), 7.5),\n",
    "    dpi=80,\n",
    ")\n",
    "\n",
    "# SET TITLE\n",
    "plt.title(\n",
    "    f\"({show['series years']}) {show['title']} - {show['rating']}\",\n",
    "    fontsize=16,\n",
    ")\n",
    "\n",
    "# SET UP AXIS\n",
    "ax = plt.axes(facecolor=\"black\")\n",
    "ax.set_prop_cycle(color=[\n",
    "    \"#e6194b\", \"#3cb44b\", \"#ffe119\", \"#4363d8\", \"#f58231\",\n",
    "    \"#911eb4\", \"#46f0f0\", \"#f032e6\", \"#bcf60c\", \"#fabebe\",\n",
    "    \"#008080\", \"#e6beff\", \"#9a6324\", \"#fffac8\", \"#800000\",\n",
    "    \"#aaffc3\", \"#808000\", \"#ffd8b1\", \"#000075\",\n",
    "])\n",
    "\n",
    "# SET LABELS\n",
    "if number_of_seasons == 1:\n",
    "    x_label = f\"{number_of_episodes} episodes (1 season)\"\n",
    "else:\n",
    "    x_label = f\"{number_of_episodes} episodes ({number_of_seasons} seasons)\"\n",
    "\n",
    "plt.xlabel(x_label, fontsize=13)\n",
    "plt.ylabel(\"episode rating\", fontsize=13)\n",
    "\n",
    "# POPULATE\n",
    "xlabels = []\n",
    "gx, gy = [], []\n",
    "\n",
    "index = 0\n",
    "\n",
    "for season, season_episodes in show.data[\"episodes\"].items():\n",
    "    if season < 1:\n",
    "        continue\n",
    "\n",
    "    x, y = [], []\n",
    "    episodes = []\n",
    "\n",
    "    for episode in season_episodes.values():\n",
    "        if episode[\"episode\"] == 0:\n",
    "            continue\n",
    "\n",
    "        if not episode.data.get(\"rating\"):\n",
    "            continue\n",
    "\n",
    "        xlabels.append(f\"{episode['season']:02}x{episode['episode']:02}\")\n",
    "\n",
    "        x.append(index)\n",
    "        gx.append(index)\n",
    "\n",
    "        y.append(episode[\"rating\"])\n",
    "        gy.append(episode[\"rating\"])\n",
    "\n",
    "        episodes.append(episode)\n",
    "        index += 1\n",
    "\n",
    "    z = np.polyfit(x, y, deg=1)\n",
    "    p = np.poly1d(z)\n",
    "\n",
    "    sp_x = np.linspace(x[-len(episodes)], x[-1], len(episodes) * 10)\n",
    "    sp_y = interpolate.make_interp_spline(x, y)(sp_x)\n",
    "\n",
    "    plt.plot(sp_x, sp_y)\n",
    "\n",
    "    plt.scatter(x, y)\n",
    "    plt.plot(x, p(x), color=\"gray\")\n",
    "\n",
    "# SET UP TICKS\n",
    "plt.xticks(range(0, len(xlabels)), rotation=90)\n",
    "ax.set_xticklabels(xlabels)\n",
    "\n",
    "# PLOT\n",
    "gz = np.polyfit(gx, gy, deg=1)\n",
    "gp = np.poly1d(gz)\n",
    "\n",
    "plt.plot(gx, gp(gx), color=\"white\")\n",
    "\n",
    "print()"
   ],
   "metadata": {
    "collapsed": false,
    "pycharm": {
     "name": "#%%\n",
     "is_executing": true
    }
   }
  },
  {
   "cell_type": "code",
   "execution_count": 4,
   "outputs": [],
   "source": [],
   "metadata": {
    "collapsed": false,
    "pycharm": {
     "name": "#%%\n"
    }
   }
  },
  {
   "cell_type": "code",
   "execution_count": 4,
   "outputs": [],
   "source": [],
   "metadata": {
    "collapsed": false,
    "pycharm": {
     "name": "#%%\n"
    }
   }
  },
  {
   "cell_type": "code",
   "execution_count": null,
   "outputs": [],
   "source": [],
   "metadata": {
    "collapsed": false,
    "pycharm": {
     "name": "#%%\n"
    }
   }
  }
 ],
 "metadata": {
  "kernelspec": {
   "display_name": "Python 3",
   "language": "python",
   "name": "python3"
  },
  "language_info": {
   "codemirror_mode": {
    "name": "ipython",
    "version": 2
   },
   "file_extension": ".py",
   "mimetype": "text/x-python",
   "name": "python",
   "nbconvert_exporter": "python",
   "pygments_lexer": "ipython2",
   "version": "2.7.6"
  }
 },
 "nbformat": 4,
 "nbformat_minor": 0
}